{
 "cells": [
  {
   "cell_type": "code",
   "execution_count": 15,
   "metadata": {
    "collapsed": false
   },
   "outputs": [],
   "source": [
    "import requests\n",
    "import csvkit as csv\n",
    "from bs4 import BeautifulSoup as Soup"
   ]
  },
  {
   "cell_type": "code",
   "execution_count": 103,
   "metadata": {
    "collapsed": true
   },
   "outputs": [],
   "source": [
    "URL = 'http://espn.go.com/golf/leaderboard11/controllers/ajax/playerDropdown'"
   ]
  },
  {
   "cell_type": "code",
   "execution_count": 62,
   "metadata": {
    "collapsed": false
   },
   "outputs": [],
   "source": [
    "def parseTable(table, playerId, tournamentId):\n",
    "    data = [r.find_all('td') for r in table.find_all('tr')]\n",
    "    out = []\n",
    "    for i,x in enumerate(data[0]):\n",
    "        if not x.text.isdigit():\n",
    "            continue\n",
    "        out.append({\n",
    "                'playerId' : playerId,\n",
    "                'tournamentId' : tournamentId,\n",
    "                'hole' : int(x.text),\n",
    "                'par' : int(data[1][i].text),\n",
    "                'score' : int(data[2][i].text)\n",
    "            })\n",
    "    return out"
   ]
  },
  {
   "cell_type": "code",
   "execution_count": 75,
   "metadata": {
    "collapsed": true
   },
   "outputs": [],
   "source": [
    "playerId = 686\n",
    "tournamentId = 309"
   ]
  },
  {
   "cell_type": "code",
   "execution_count": 104,
   "metadata": {
    "collapsed": false
   },
   "outputs": [
    {
     "data": {
      "text/plain": [
       "'http://espn.go.com/golf/leaderboard11/controllers/ajax/playerDropdown?tournamentId=309&playerId=686&xhr=1'"
      ]
     },
     "execution_count": 104,
     "metadata": {},
     "output_type": "execute_result"
    }
   ],
   "source": [
    "r = requests.get(URL, params={'playerId':playerId, 'tournamentId':tournamentId, 'xhr': 1})\n",
    "r.url"
   ]
  },
  {
   "cell_type": "code",
   "execution_count": 105,
   "metadata": {
    "collapsed": false
   },
   "outputs": [],
   "source": [
    "s = Soup(r.text, 'lxml')"
   ]
  },
  {
   "cell_type": "code",
   "execution_count": 106,
   "metadata": {
    "collapsed": false
   },
   "outputs": [
    {
     "data": {
      "text/plain": [
       "[<table cellpadding=\"3\" cellspacing=\"1\" class=\"scorecard-table\" style=\"display:none;\"><tr class=\"hole\"><td class=\"heading\">Hole</td><td>1</td><td>2</td><td>3</td><td>4</td><td>5</td><td>6</td><td>7</td><td>8</td><td>9</td><td>OUT</td><td>10</td><td>11</td><td>12</td><td>13</td><td>14</td><td>15</td><td>16</td><td>17</td><td>18</td><td>IN</td><td>TOT</td></tr><tr class=\"par\"><td class=\"heading\">Par</td><td>4</td><td>5</td><td>4</td><td>3</td><td>4</td><td>3</td><td>4</td><td>5</td><td>4</td><td>36</td><td>4</td><td>4</td><td>3</td><td>5</td><td>4</td><td>5</td><td>3</td><td>4</td><td>4</td><td>36</td><td>72</td></tr><tr class=\"score\"><td class=\"heading\">Score</td><td style=\"background-color: #FF8F8F !important\">5</td><td style=\"background-color: #95EF86 !important\">4</td><td>4</td><td>3</td><td>4</td><td>3</td><td>4</td><td style=\"background-color: #95EF86 !important\">4</td><td>4</td><td>35</td><td style=\"background-color: #FF8F8F !important\">5</td><td>4</td><td>3</td><td style=\"background-color: #95EF86 !important\">4</td><td>4</td><td style=\"background-color: #95EF86 !important\">4</td><td style=\"background-color: #FF8F8F !important\">4</td><td>4</td><td>4</td><td>36</td><td>71</td></tr></table>,\n",
       " <table cellpadding=\"3\" cellspacing=\"1\" class=\"scorecard-table\" style=\"display:none;\"><tr class=\"hole\"><td class=\"heading\">Hole</td><td>1</td><td>2</td><td>3</td><td>4</td><td>5</td><td>6</td><td>7</td><td>8</td><td>9</td><td>OUT</td><td>10</td><td>11</td><td>12</td><td>13</td><td>14</td><td>15</td><td>16</td><td>17</td><td>18</td><td>IN</td><td>TOT</td></tr><tr class=\"par\"><td class=\"heading\">Par</td><td>4</td><td>5</td><td>4</td><td>3</td><td>4</td><td>3</td><td>4</td><td>5</td><td>4</td><td>36</td><td>4</td><td>4</td><td>3</td><td>5</td><td>4</td><td>5</td><td>3</td><td>4</td><td>4</td><td>36</td><td>72</td></tr><tr class=\"score\"><td class=\"heading\">Score</td><td>4</td><td style=\"background-color: #95EF86 !important\">4</td><td style=\"background-color: #95EF86 !important\">3</td><td>3</td><td style=\"background-color: #FF8F8F !important\">5</td><td>3</td><td>4</td><td style=\"background-color: #95EF86 !important\">4</td><td>4</td><td>34</td><td>4</td><td style=\"background-color: #FF8F8F !important\">5</td><td>3</td><td style=\"background-color: #95EF86 !important\">4</td><td>4</td><td>5</td><td style=\"background-color: #FF8F8F !important\">4</td><td style=\"background-color: #FF8F8F !important\">5</td><td style=\"background-color: #FF8F8F !important\">5</td><td>39</td><td>73</td></tr></table>,\n",
       " <table cellpadding=\"3\" cellspacing=\"1\" class=\"scorecard-table\" style=\"display:none;\"><tr class=\"hole\"><td class=\"heading\">Hole</td><td>1</td><td>2</td><td>3</td><td>4</td><td>5</td><td>6</td><td>7</td><td>8</td><td>9</td><td>OUT</td><td>10</td><td>11</td><td>12</td><td>13</td><td>14</td><td>15</td><td>16</td><td>17</td><td>18</td><td>IN</td><td>TOT</td></tr><tr class=\"par\"><td class=\"heading\">Par</td><td>4</td><td>5</td><td>4</td><td>3</td><td>4</td><td>3</td><td>4</td><td>5</td><td>4</td><td>36</td><td>4</td><td>4</td><td>3</td><td>5</td><td>4</td><td>5</td><td>3</td><td>4</td><td>4</td><td>36</td><td>72</td></tr><tr class=\"score\"><td class=\"heading\">Score</td><td>4</td><td>5</td><td>4</td><td>3</td><td style=\"background-color: #FF8F8F !important\">5</td><td>3</td><td>4</td><td>5</td><td style=\"background-color: #FF8F8F !important\">5</td><td>38</td><td>4</td><td style=\"background-color: #FF8F8F !important\">5</td><td style=\"background-color: #FF8F8F !important\">4</td><td>5</td><td>4</td><td style=\"background-color: #95EF86 !important\">4</td><td style=\"background-color: #FF8F8F !important\">4</td><td>4</td><td>4</td><td>38</td><td>76</td></tr></table>,\n",
       " <table cellpadding=\"3\" cellspacing=\"1\" class=\"scorecard-table\"><tr class=\"hole\"><td class=\"heading\">Hole</td><td>1</td><td>2</td><td>3</td><td>4</td><td>5</td><td>6</td><td>7</td><td>8</td><td>9</td><td>OUT</td><td>10</td><td>11</td><td>12</td><td>13</td><td>14</td><td>15</td><td>16</td><td>17</td><td>18</td><td>IN</td><td>TOT</td></tr><tr class=\"par\"><td class=\"heading\">Par</td><td>4</td><td>5</td><td>4</td><td>3</td><td>4</td><td>3</td><td>4</td><td>5</td><td>4</td><td>36</td><td>4</td><td>4</td><td>3</td><td>5</td><td>4</td><td>5</td><td>3</td><td>4</td><td>4</td><td>36</td><td>72</td></tr><tr class=\"score\"><td class=\"heading\">Score</td><td style=\"background-color: #FF8F8F !important\">5</td><td style=\"background-color: #95EF86 !important\">4</td><td style=\"background-color: #95EF86 !important\">3</td><td>3</td><td style=\"background-color: #FF8F8F !important\">5</td><td>3</td><td>4</td><td style=\"background-color: #95EF86 !important\">4</td><td>4</td><td>35</td><td>4</td><td>4</td><td>3</td><td style=\"background-color: #95EF86 !important\">4</td><td style=\"background-color: #95EF86 !important\">3</td><td>5</td><td style=\"background-color: #95EF86 !important\">2</td><td style=\"background-color: #FF8F8F !important\">5</td><td>4</td><td>34</td><td>69</td></tr></table>]"
      ]
     },
     "execution_count": 106,
     "metadata": {},
     "output_type": "execute_result"
    }
   ],
   "source": [
    "s.find_all(class_='scorecard-table')"
   ]
  },
  {
   "cell_type": "code",
   "execution_count": 79,
   "metadata": {
    "collapsed": false,
    "scrolled": true
   },
   "outputs": [
    {
     "data": {
      "text/plain": [
       "[{'hole': 1, 'par': 4, 'playerId': 686, 'score': 5, 'tournamentId': 309},\n",
       " {'hole': 2, 'par': 5, 'playerId': 686, 'score': 4, 'tournamentId': 309},\n",
       " {'hole': 3, 'par': 4, 'playerId': 686, 'score': 4, 'tournamentId': 309},\n",
       " {'hole': 4, 'par': 3, 'playerId': 686, 'score': 3, 'tournamentId': 309},\n",
       " {'hole': 5, 'par': 4, 'playerId': 686, 'score': 4, 'tournamentId': 309},\n",
       " {'hole': 6, 'par': 3, 'playerId': 686, 'score': 3, 'tournamentId': 309},\n",
       " {'hole': 7, 'par': 4, 'playerId': 686, 'score': 4, 'tournamentId': 309},\n",
       " {'hole': 8, 'par': 5, 'playerId': 686, 'score': 4, 'tournamentId': 309},\n",
       " {'hole': 9, 'par': 4, 'playerId': 686, 'score': 4, 'tournamentId': 309},\n",
       " {'hole': 10, 'par': 4, 'playerId': 686, 'score': 5, 'tournamentId': 309},\n",
       " {'hole': 11, 'par': 4, 'playerId': 686, 'score': 4, 'tournamentId': 309},\n",
       " {'hole': 12, 'par': 3, 'playerId': 686, 'score': 3, 'tournamentId': 309},\n",
       " {'hole': 13, 'par': 5, 'playerId': 686, 'score': 4, 'tournamentId': 309},\n",
       " {'hole': 14, 'par': 4, 'playerId': 686, 'score': 4, 'tournamentId': 309},\n",
       " {'hole': 15, 'par': 5, 'playerId': 686, 'score': 4, 'tournamentId': 309},\n",
       " {'hole': 16, 'par': 3, 'playerId': 686, 'score': 4, 'tournamentId': 309},\n",
       " {'hole': 17, 'par': 4, 'playerId': 686, 'score': 4, 'tournamentId': 309},\n",
       " {'hole': 18, 'par': 4, 'playerId': 686, 'score': 4, 'tournamentId': 309},\n",
       " {'hole': 1, 'par': 4, 'playerId': 686, 'score': 4, 'tournamentId': 309},\n",
       " {'hole': 2, 'par': 5, 'playerId': 686, 'score': 4, 'tournamentId': 309},\n",
       " {'hole': 3, 'par': 4, 'playerId': 686, 'score': 3, 'tournamentId': 309},\n",
       " {'hole': 4, 'par': 3, 'playerId': 686, 'score': 3, 'tournamentId': 309},\n",
       " {'hole': 5, 'par': 4, 'playerId': 686, 'score': 5, 'tournamentId': 309},\n",
       " {'hole': 6, 'par': 3, 'playerId': 686, 'score': 3, 'tournamentId': 309},\n",
       " {'hole': 7, 'par': 4, 'playerId': 686, 'score': 4, 'tournamentId': 309},\n",
       " {'hole': 8, 'par': 5, 'playerId': 686, 'score': 4, 'tournamentId': 309},\n",
       " {'hole': 9, 'par': 4, 'playerId': 686, 'score': 4, 'tournamentId': 309},\n",
       " {'hole': 10, 'par': 4, 'playerId': 686, 'score': 4, 'tournamentId': 309},\n",
       " {'hole': 11, 'par': 4, 'playerId': 686, 'score': 5, 'tournamentId': 309},\n",
       " {'hole': 12, 'par': 3, 'playerId': 686, 'score': 3, 'tournamentId': 309},\n",
       " {'hole': 13, 'par': 5, 'playerId': 686, 'score': 4, 'tournamentId': 309},\n",
       " {'hole': 14, 'par': 4, 'playerId': 686, 'score': 4, 'tournamentId': 309},\n",
       " {'hole': 15, 'par': 5, 'playerId': 686, 'score': 5, 'tournamentId': 309},\n",
       " {'hole': 16, 'par': 3, 'playerId': 686, 'score': 4, 'tournamentId': 309},\n",
       " {'hole': 17, 'par': 4, 'playerId': 686, 'score': 5, 'tournamentId': 309},\n",
       " {'hole': 18, 'par': 4, 'playerId': 686, 'score': 5, 'tournamentId': 309},\n",
       " {'hole': 1, 'par': 4, 'playerId': 686, 'score': 4, 'tournamentId': 309},\n",
       " {'hole': 2, 'par': 5, 'playerId': 686, 'score': 5, 'tournamentId': 309},\n",
       " {'hole': 3, 'par': 4, 'playerId': 686, 'score': 4, 'tournamentId': 309},\n",
       " {'hole': 4, 'par': 3, 'playerId': 686, 'score': 3, 'tournamentId': 309},\n",
       " {'hole': 5, 'par': 4, 'playerId': 686, 'score': 5, 'tournamentId': 309},\n",
       " {'hole': 6, 'par': 3, 'playerId': 686, 'score': 3, 'tournamentId': 309},\n",
       " {'hole': 7, 'par': 4, 'playerId': 686, 'score': 4, 'tournamentId': 309},\n",
       " {'hole': 8, 'par': 5, 'playerId': 686, 'score': 5, 'tournamentId': 309},\n",
       " {'hole': 9, 'par': 4, 'playerId': 686, 'score': 5, 'tournamentId': 309},\n",
       " {'hole': 10, 'par': 4, 'playerId': 686, 'score': 4, 'tournamentId': 309},\n",
       " {'hole': 11, 'par': 4, 'playerId': 686, 'score': 5, 'tournamentId': 309},\n",
       " {'hole': 12, 'par': 3, 'playerId': 686, 'score': 4, 'tournamentId': 309},\n",
       " {'hole': 13, 'par': 5, 'playerId': 686, 'score': 5, 'tournamentId': 309},\n",
       " {'hole': 14, 'par': 4, 'playerId': 686, 'score': 4, 'tournamentId': 309},\n",
       " {'hole': 15, 'par': 5, 'playerId': 686, 'score': 4, 'tournamentId': 309},\n",
       " {'hole': 16, 'par': 3, 'playerId': 686, 'score': 4, 'tournamentId': 309},\n",
       " {'hole': 17, 'par': 4, 'playerId': 686, 'score': 4, 'tournamentId': 309},\n",
       " {'hole': 18, 'par': 4, 'playerId': 686, 'score': 4, 'tournamentId': 309},\n",
       " {'hole': 1, 'par': 4, 'playerId': 686, 'score': 5, 'tournamentId': 309},\n",
       " {'hole': 2, 'par': 5, 'playerId': 686, 'score': 4, 'tournamentId': 309},\n",
       " {'hole': 3, 'par': 4, 'playerId': 686, 'score': 3, 'tournamentId': 309},\n",
       " {'hole': 4, 'par': 3, 'playerId': 686, 'score': 3, 'tournamentId': 309},\n",
       " {'hole': 5, 'par': 4, 'playerId': 686, 'score': 5, 'tournamentId': 309},\n",
       " {'hole': 6, 'par': 3, 'playerId': 686, 'score': 3, 'tournamentId': 309},\n",
       " {'hole': 7, 'par': 4, 'playerId': 686, 'score': 4, 'tournamentId': 309},\n",
       " {'hole': 8, 'par': 5, 'playerId': 686, 'score': 4, 'tournamentId': 309},\n",
       " {'hole': 9, 'par': 4, 'playerId': 686, 'score': 4, 'tournamentId': 309},\n",
       " {'hole': 10, 'par': 4, 'playerId': 686, 'score': 4, 'tournamentId': 309},\n",
       " {'hole': 11, 'par': 4, 'playerId': 686, 'score': 4, 'tournamentId': 309},\n",
       " {'hole': 12, 'par': 3, 'playerId': 686, 'score': 3, 'tournamentId': 309},\n",
       " {'hole': 13, 'par': 5, 'playerId': 686, 'score': 4, 'tournamentId': 309},\n",
       " {'hole': 14, 'par': 4, 'playerId': 686, 'score': 3, 'tournamentId': 309},\n",
       " {'hole': 15, 'par': 5, 'playerId': 686, 'score': 5, 'tournamentId': 309},\n",
       " {'hole': 16, 'par': 3, 'playerId': 686, 'score': 2, 'tournamentId': 309},\n",
       " {'hole': 17, 'par': 4, 'playerId': 686, 'score': 5, 'tournamentId': 309},\n",
       " {'hole': 18, 'par': 4, 'playerId': 686, 'score': 4, 'tournamentId': 309}]"
      ]
     },
     "execution_count": 79,
     "metadata": {},
     "output_type": "execute_result"
    }
   ],
   "source": [
    "l = [parseTable(r, playerId, tournamentId) for r in s.find_all(class_='scorecard-table')]\n",
    "[item for sublist in l for item in sublist]"
   ]
  },
  {
   "cell_type": "code",
   "execution_count": 114,
   "metadata": {
    "collapsed": true
   },
   "outputs": [],
   "source": [
    "def parsePlayer(tournamentId, playerId):\n",
    "    r = requests.get(URL, params={'playerId':playerId, 'tournamentId':tournamentId, 'xhr': 1})\n",
    "    s = Soup(r.text, 'lxml')\n",
    "    l = [parseTable(r, playerId, tournamentId) for r in s.find_all(class_='scorecard-table')]\n",
    "    return [item for sublist in l for item in sublist]\n"
   ]
  },
  {
   "cell_type": "code",
   "execution_count": 117,
   "metadata": {
    "collapsed": true
   },
   "outputs": [],
   "source": [
    "def parseTournament(tournamentId, playerList):\n",
    "    final_data = [parsePlayer(tournamentId, playerId) for playerId in playerList]\n",
    "    return [item for sublist in final_data for item in sublist]"
   ]
  },
  {
   "cell_type": "code",
   "execution_count": 119,
   "metadata": {
    "collapsed": false,
    "scrolled": true
   },
   "outputs": [
    {
     "data": {
      "text/plain": [
       "[{'hole': 1, 'par': 4, 'playerId': 66, 'score': 4, 'tournamentId': 309},\n",
       " {'hole': 2, 'par': 5, 'playerId': 66, 'score': 6, 'tournamentId': 309},\n",
       " {'hole': 3, 'par': 4, 'playerId': 66, 'score': 4, 'tournamentId': 309},\n",
       " {'hole': 4, 'par': 3, 'playerId': 66, 'score': 4, 'tournamentId': 309},\n",
       " {'hole': 5, 'par': 4, 'playerId': 66, 'score': 5, 'tournamentId': 309},\n",
       " {'hole': 6, 'par': 3, 'playerId': 66, 'score': 3, 'tournamentId': 309},\n",
       " {'hole': 7, 'par': 4, 'playerId': 66, 'score': 3, 'tournamentId': 309},\n",
       " {'hole': 8, 'par': 5, 'playerId': 66, 'score': 5, 'tournamentId': 309},\n",
       " {'hole': 9, 'par': 4, 'playerId': 66, 'score': 4, 'tournamentId': 309},\n",
       " {'hole': 10, 'par': 4, 'playerId': 66, 'score': 4, 'tournamentId': 309},\n",
       " {'hole': 11, 'par': 4, 'playerId': 66, 'score': 5, 'tournamentId': 309},\n",
       " {'hole': 12, 'par': 3, 'playerId': 66, 'score': 3, 'tournamentId': 309},\n",
       " {'hole': 13, 'par': 5, 'playerId': 66, 'score': 5, 'tournamentId': 309},\n",
       " {'hole': 14, 'par': 4, 'playerId': 66, 'score': 4, 'tournamentId': 309},\n",
       " {'hole': 15, 'par': 5, 'playerId': 66, 'score': 6, 'tournamentId': 309},\n",
       " {'hole': 16, 'par': 3, 'playerId': 66, 'score': 3, 'tournamentId': 309},\n",
       " {'hole': 17, 'par': 4, 'playerId': 66, 'score': 4, 'tournamentId': 309},\n",
       " {'hole': 18, 'par': 4, 'playerId': 66, 'score': 4, 'tournamentId': 309},\n",
       " {'hole': 1, 'par': 4, 'playerId': 66, 'score': 4, 'tournamentId': 309},\n",
       " {'hole': 2, 'par': 5, 'playerId': 66, 'score': 4, 'tournamentId': 309},\n",
       " {'hole': 3, 'par': 4, 'playerId': 66, 'score': 5, 'tournamentId': 309},\n",
       " {'hole': 4, 'par': 3, 'playerId': 66, 'score': 3, 'tournamentId': 309},\n",
       " {'hole': 5, 'par': 4, 'playerId': 66, 'score': 4, 'tournamentId': 309},\n",
       " {'hole': 6, 'par': 3, 'playerId': 66, 'score': 3, 'tournamentId': 309},\n",
       " {'hole': 7, 'par': 4, 'playerId': 66, 'score': 3, 'tournamentId': 309},\n",
       " {'hole': 8, 'par': 5, 'playerId': 66, 'score': 4, 'tournamentId': 309},\n",
       " {'hole': 9, 'par': 4, 'playerId': 66, 'score': 4, 'tournamentId': 309},\n",
       " {'hole': 10, 'par': 4, 'playerId': 66, 'score': 5, 'tournamentId': 309},\n",
       " {'hole': 11, 'par': 4, 'playerId': 66, 'score': 4, 'tournamentId': 309},\n",
       " {'hole': 12, 'par': 3, 'playerId': 66, 'score': 3, 'tournamentId': 309},\n",
       " {'hole': 13, 'par': 5, 'playerId': 66, 'score': 4, 'tournamentId': 309},\n",
       " {'hole': 14, 'par': 4, 'playerId': 66, 'score': 4, 'tournamentId': 309},\n",
       " {'hole': 15, 'par': 5, 'playerId': 66, 'score': 5, 'tournamentId': 309},\n",
       " {'hole': 16, 'par': 3, 'playerId': 66, 'score': 4, 'tournamentId': 309},\n",
       " {'hole': 17, 'par': 4, 'playerId': 66, 'score': 4, 'tournamentId': 309},\n",
       " {'hole': 18, 'par': 4, 'playerId': 66, 'score': 4, 'tournamentId': 309},\n",
       " {'hole': 1, 'par': 4, 'playerId': 66, 'score': 5, 'tournamentId': 309},\n",
       " {'hole': 2, 'par': 5, 'playerId': 66, 'score': 4, 'tournamentId': 309},\n",
       " {'hole': 3, 'par': 4, 'playerId': 66, 'score': 4, 'tournamentId': 309},\n",
       " {'hole': 4, 'par': 3, 'playerId': 66, 'score': 6, 'tournamentId': 309},\n",
       " {'hole': 5, 'par': 4, 'playerId': 66, 'score': 4, 'tournamentId': 309},\n",
       " {'hole': 6, 'par': 3, 'playerId': 66, 'score': 3, 'tournamentId': 309},\n",
       " {'hole': 7, 'par': 4, 'playerId': 66, 'score': 4, 'tournamentId': 309},\n",
       " {'hole': 8, 'par': 5, 'playerId': 66, 'score': 5, 'tournamentId': 309},\n",
       " {'hole': 9, 'par': 4, 'playerId': 66, 'score': 4, 'tournamentId': 309},\n",
       " {'hole': 10, 'par': 4, 'playerId': 66, 'score': 4, 'tournamentId': 309},\n",
       " {'hole': 11, 'par': 4, 'playerId': 66, 'score': 4, 'tournamentId': 309},\n",
       " {'hole': 12, 'par': 3, 'playerId': 66, 'score': 5, 'tournamentId': 309},\n",
       " {'hole': 13, 'par': 5, 'playerId': 66, 'score': 5, 'tournamentId': 309},\n",
       " {'hole': 14, 'par': 4, 'playerId': 66, 'score': 4, 'tournamentId': 309},\n",
       " {'hole': 15, 'par': 5, 'playerId': 66, 'score': 5, 'tournamentId': 309},\n",
       " {'hole': 16, 'par': 3, 'playerId': 66, 'score': 2, 'tournamentId': 309},\n",
       " {'hole': 17, 'par': 4, 'playerId': 66, 'score': 5, 'tournamentId': 309},\n",
       " {'hole': 18, 'par': 4, 'playerId': 66, 'score': 5, 'tournamentId': 309},\n",
       " {'hole': 1, 'par': 4, 'playerId': 66, 'score': 3, 'tournamentId': 309},\n",
       " {'hole': 2, 'par': 5, 'playerId': 66, 'score': 3, 'tournamentId': 309},\n",
       " {'hole': 3, 'par': 4, 'playerId': 66, 'score': 4, 'tournamentId': 309},\n",
       " {'hole': 4, 'par': 3, 'playerId': 66, 'score': 3, 'tournamentId': 309},\n",
       " {'hole': 5, 'par': 4, 'playerId': 66, 'score': 4, 'tournamentId': 309},\n",
       " {'hole': 6, 'par': 3, 'playerId': 66, 'score': 5, 'tournamentId': 309},\n",
       " {'hole': 7, 'par': 4, 'playerId': 66, 'score': 4, 'tournamentId': 309},\n",
       " {'hole': 8, 'par': 5, 'playerId': 66, 'score': 5, 'tournamentId': 309},\n",
       " {'hole': 9, 'par': 4, 'playerId': 66, 'score': 3, 'tournamentId': 309},\n",
       " {'hole': 10, 'par': 4, 'playerId': 66, 'score': 4, 'tournamentId': 309},\n",
       " {'hole': 11, 'par': 4, 'playerId': 66, 'score': 4, 'tournamentId': 309},\n",
       " {'hole': 12, 'par': 3, 'playerId': 66, 'score': 3, 'tournamentId': 309},\n",
       " {'hole': 13, 'par': 5, 'playerId': 66, 'score': 8, 'tournamentId': 309},\n",
       " {'hole': 14, 'par': 4, 'playerId': 66, 'score': 4, 'tournamentId': 309},\n",
       " {'hole': 15, 'par': 5, 'playerId': 66, 'score': 4, 'tournamentId': 309},\n",
       " {'hole': 16, 'par': 3, 'playerId': 66, 'score': 3, 'tournamentId': 309},\n",
       " {'hole': 17, 'par': 4, 'playerId': 66, 'score': 4, 'tournamentId': 309},\n",
       " {'hole': 18, 'par': 4, 'playerId': 66, 'score': 5, 'tournamentId': 309},\n",
       " {'hole': 1, 'par': 4, 'playerId': 686, 'score': 5, 'tournamentId': 309},\n",
       " {'hole': 2, 'par': 5, 'playerId': 686, 'score': 4, 'tournamentId': 309},\n",
       " {'hole': 3, 'par': 4, 'playerId': 686, 'score': 4, 'tournamentId': 309},\n",
       " {'hole': 4, 'par': 3, 'playerId': 686, 'score': 3, 'tournamentId': 309},\n",
       " {'hole': 5, 'par': 4, 'playerId': 686, 'score': 4, 'tournamentId': 309},\n",
       " {'hole': 6, 'par': 3, 'playerId': 686, 'score': 3, 'tournamentId': 309},\n",
       " {'hole': 7, 'par': 4, 'playerId': 686, 'score': 4, 'tournamentId': 309},\n",
       " {'hole': 8, 'par': 5, 'playerId': 686, 'score': 4, 'tournamentId': 309},\n",
       " {'hole': 9, 'par': 4, 'playerId': 686, 'score': 4, 'tournamentId': 309},\n",
       " {'hole': 10, 'par': 4, 'playerId': 686, 'score': 5, 'tournamentId': 309},\n",
       " {'hole': 11, 'par': 4, 'playerId': 686, 'score': 4, 'tournamentId': 309},\n",
       " {'hole': 12, 'par': 3, 'playerId': 686, 'score': 3, 'tournamentId': 309},\n",
       " {'hole': 13, 'par': 5, 'playerId': 686, 'score': 4, 'tournamentId': 309},\n",
       " {'hole': 14, 'par': 4, 'playerId': 686, 'score': 4, 'tournamentId': 309},\n",
       " {'hole': 15, 'par': 5, 'playerId': 686, 'score': 4, 'tournamentId': 309},\n",
       " {'hole': 16, 'par': 3, 'playerId': 686, 'score': 4, 'tournamentId': 309},\n",
       " {'hole': 17, 'par': 4, 'playerId': 686, 'score': 4, 'tournamentId': 309},\n",
       " {'hole': 18, 'par': 4, 'playerId': 686, 'score': 4, 'tournamentId': 309},\n",
       " {'hole': 1, 'par': 4, 'playerId': 686, 'score': 4, 'tournamentId': 309},\n",
       " {'hole': 2, 'par': 5, 'playerId': 686, 'score': 4, 'tournamentId': 309},\n",
       " {'hole': 3, 'par': 4, 'playerId': 686, 'score': 3, 'tournamentId': 309},\n",
       " {'hole': 4, 'par': 3, 'playerId': 686, 'score': 3, 'tournamentId': 309},\n",
       " {'hole': 5, 'par': 4, 'playerId': 686, 'score': 5, 'tournamentId': 309},\n",
       " {'hole': 6, 'par': 3, 'playerId': 686, 'score': 3, 'tournamentId': 309},\n",
       " {'hole': 7, 'par': 4, 'playerId': 686, 'score': 4, 'tournamentId': 309},\n",
       " {'hole': 8, 'par': 5, 'playerId': 686, 'score': 4, 'tournamentId': 309},\n",
       " {'hole': 9, 'par': 4, 'playerId': 686, 'score': 4, 'tournamentId': 309},\n",
       " {'hole': 10, 'par': 4, 'playerId': 686, 'score': 4, 'tournamentId': 309},\n",
       " {'hole': 11, 'par': 4, 'playerId': 686, 'score': 5, 'tournamentId': 309},\n",
       " {'hole': 12, 'par': 3, 'playerId': 686, 'score': 3, 'tournamentId': 309},\n",
       " {'hole': 13, 'par': 5, 'playerId': 686, 'score': 4, 'tournamentId': 309},\n",
       " {'hole': 14, 'par': 4, 'playerId': 686, 'score': 4, 'tournamentId': 309},\n",
       " {'hole': 15, 'par': 5, 'playerId': 686, 'score': 5, 'tournamentId': 309},\n",
       " {'hole': 16, 'par': 3, 'playerId': 686, 'score': 4, 'tournamentId': 309},\n",
       " {'hole': 17, 'par': 4, 'playerId': 686, 'score': 5, 'tournamentId': 309},\n",
       " {'hole': 18, 'par': 4, 'playerId': 686, 'score': 5, 'tournamentId': 309},\n",
       " {'hole': 1, 'par': 4, 'playerId': 686, 'score': 4, 'tournamentId': 309},\n",
       " {'hole': 2, 'par': 5, 'playerId': 686, 'score': 5, 'tournamentId': 309},\n",
       " {'hole': 3, 'par': 4, 'playerId': 686, 'score': 4, 'tournamentId': 309},\n",
       " {'hole': 4, 'par': 3, 'playerId': 686, 'score': 3, 'tournamentId': 309},\n",
       " {'hole': 5, 'par': 4, 'playerId': 686, 'score': 5, 'tournamentId': 309},\n",
       " {'hole': 6, 'par': 3, 'playerId': 686, 'score': 3, 'tournamentId': 309},\n",
       " {'hole': 7, 'par': 4, 'playerId': 686, 'score': 4, 'tournamentId': 309},\n",
       " {'hole': 8, 'par': 5, 'playerId': 686, 'score': 5, 'tournamentId': 309},\n",
       " {'hole': 9, 'par': 4, 'playerId': 686, 'score': 5, 'tournamentId': 309},\n",
       " {'hole': 10, 'par': 4, 'playerId': 686, 'score': 4, 'tournamentId': 309},\n",
       " {'hole': 11, 'par': 4, 'playerId': 686, 'score': 5, 'tournamentId': 309},\n",
       " {'hole': 12, 'par': 3, 'playerId': 686, 'score': 4, 'tournamentId': 309},\n",
       " {'hole': 13, 'par': 5, 'playerId': 686, 'score': 5, 'tournamentId': 309},\n",
       " {'hole': 14, 'par': 4, 'playerId': 686, 'score': 4, 'tournamentId': 309},\n",
       " {'hole': 15, 'par': 5, 'playerId': 686, 'score': 4, 'tournamentId': 309},\n",
       " {'hole': 16, 'par': 3, 'playerId': 686, 'score': 4, 'tournamentId': 309},\n",
       " {'hole': 17, 'par': 4, 'playerId': 686, 'score': 4, 'tournamentId': 309},\n",
       " {'hole': 18, 'par': 4, 'playerId': 686, 'score': 4, 'tournamentId': 309},\n",
       " {'hole': 1, 'par': 4, 'playerId': 686, 'score': 5, 'tournamentId': 309},\n",
       " {'hole': 2, 'par': 5, 'playerId': 686, 'score': 4, 'tournamentId': 309},\n",
       " {'hole': 3, 'par': 4, 'playerId': 686, 'score': 3, 'tournamentId': 309},\n",
       " {'hole': 4, 'par': 3, 'playerId': 686, 'score': 3, 'tournamentId': 309},\n",
       " {'hole': 5, 'par': 4, 'playerId': 686, 'score': 5, 'tournamentId': 309},\n",
       " {'hole': 6, 'par': 3, 'playerId': 686, 'score': 3, 'tournamentId': 309},\n",
       " {'hole': 7, 'par': 4, 'playerId': 686, 'score': 4, 'tournamentId': 309},\n",
       " {'hole': 8, 'par': 5, 'playerId': 686, 'score': 4, 'tournamentId': 309},\n",
       " {'hole': 9, 'par': 4, 'playerId': 686, 'score': 4, 'tournamentId': 309},\n",
       " {'hole': 10, 'par': 4, 'playerId': 686, 'score': 4, 'tournamentId': 309},\n",
       " {'hole': 11, 'par': 4, 'playerId': 686, 'score': 4, 'tournamentId': 309},\n",
       " {'hole': 12, 'par': 3, 'playerId': 686, 'score': 3, 'tournamentId': 309},\n",
       " {'hole': 13, 'par': 5, 'playerId': 686, 'score': 4, 'tournamentId': 309},\n",
       " {'hole': 14, 'par': 4, 'playerId': 686, 'score': 3, 'tournamentId': 309},\n",
       " {'hole': 15, 'par': 5, 'playerId': 686, 'score': 5, 'tournamentId': 309},\n",
       " {'hole': 16, 'par': 3, 'playerId': 686, 'score': 2, 'tournamentId': 309},\n",
       " {'hole': 17, 'par': 4, 'playerId': 686, 'score': 5, 'tournamentId': 309},\n",
       " {'hole': 18, 'par': 4, 'playerId': 686, 'score': 4, 'tournamentId': 309}]"
      ]
     },
     "execution_count": 119,
     "metadata": {},
     "output_type": "execute_result"
    }
   ],
   "source": [
    "parseTournament(309, [66, 686])"
   ]
  },
  {
   "cell_type": "code",
   "execution_count": null,
   "metadata": {
    "collapsed": true
   },
   "outputs": [],
   "source": []
  },
  {
   "cell_type": "code",
   "execution_count": null,
   "metadata": {
    "collapsed": true
   },
   "outputs": [],
   "source": []
  }
 ],
 "metadata": {
  "kernelspec": {
   "display_name": "Python 3",
   "language": "python3",
   "name": "python3"
  },
  "language_info": {
   "codemirror_mode": {
    "name": "ipython",
    "version": 3
   },
   "file_extension": ".py",
   "mimetype": "text/x-python",
   "name": "python",
   "nbconvert_exporter": "python",
   "pygments_lexer": "ipython3",
   "version": "3.5.1"
  }
 },
 "nbformat": 4,
 "nbformat_minor": 0
}
